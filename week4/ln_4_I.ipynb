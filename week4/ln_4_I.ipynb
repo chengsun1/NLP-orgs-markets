{
 "cells": [
  {
   "cell_type": "markdown",
   "id": "731a302a",
   "metadata": {
    "slideshow": {
     "slide_type": "slide"
    }
   },
   "source": [
    "# Session 4, part I\n",
    "\n",
    "## – Topic Modeling: roots and processes\n",
    "\n",
    "<img src=\"images/cover.jpg\" width=\"60%\">"
   ]
  },
  {
   "cell_type": "markdown",
   "id": "0160c80b",
   "metadata": {
    "slideshow": {
     "slide_type": "slide"
    }
   },
   "source": [
    "## What's Topic Modeling (TM) about?"
   ]
  },
  {
   "cell_type": "markdown",
   "id": "0c03f5bf",
   "metadata": {
    "slideshow": {
     "slide_type": "fragment"
    }
   },
   "source": [
    "- TM is an unsupervised machine learning technique for abstracting hidden topics (i.e., themes) from collections of documents.\n",
    "- TM components:\n",
    "  - Topics are represented as the probability that each of a given set of words will occur\n",
    "  - Documents are represented as a mixture of topics\n",
    "- Words can be associated with multiple topics"
   ]
  },
  {
   "cell_type": "markdown",
   "id": "175e8b6a",
   "metadata": {
    "slideshow": {
     "slide_type": "slide"
    }
   },
   "source": [
    "## Methodological roots of TM\n",
    "\n",
    "<img src=\"images/_0.png\" width=\"60%\">"
   ]
  },
  {
   "cell_type": "markdown",
   "id": "44bbe015",
   "metadata": {
    "slideshow": {
     "slide_type": "subslide"
    }
   },
   "source": [
    "## The analytical framework behind TM\n",
    "\n",
    "<img src=\"images/_2.png\" width=\"60%\">\n",
    "\n",
    "Source: [Blei, 2010](http://www.cs.columbia.edu/~blei/papers/Blei2011.pdf)"
   ]
  },
  {
   "cell_type": "markdown",
   "id": "c64c2dd7",
   "metadata": {
    "slideshow": {
     "slide_type": "subslide"
    }
   },
   "source": [
    "## Extension of the original model\n",
    "\n",
    "<img src=\"images/_1.png\" width=\"60%\">"
   ]
  },
  {
   "cell_type": "markdown",
   "id": "c9fe7442",
   "metadata": {
    "slideshow": {
     "slide_type": "slide"
    }
   },
   "source": [
    "## What are the main steps forming a TM project?"
   ]
  },
  {
   "cell_type": "markdown",
   "id": "625e0d93",
   "metadata": {
    "slideshow": {
     "slide_type": "fragment"
    }
   },
   "source": [
    "<img src=\"images/_3.png\" width=\"60%\">"
   ]
  },
  {
   "cell_type": "markdown",
   "id": "fea9402c",
   "metadata": {
    "slideshow": {
     "slide_type": "subslide"
    }
   },
   "source": [
    "## To get a closer understanding of the TM process\n",
    "\n",
    "<img src=\"images/_4.png\" width=\"60%\">"
   ]
  }
 ],
 "metadata": {
  "celltoolbar": "Slideshow",
  "kernelspec": {
   "display_name": "Python 3",
   "language": "python",
   "name": "python3"
  },
  "language_info": {
   "codemirror_mode": {
    "name": "ipython",
    "version": 3
   },
   "file_extension": ".py",
   "mimetype": "text/x-python",
   "name": "python",
   "nbconvert_exporter": "python",
   "pygments_lexer": "ipython3",
   "version": "3.8.8"
  },
  "varInspector": {
   "cols": {
    "lenName": 16,
    "lenType": 16,
    "lenVar": 40
   },
   "kernels_config": {
    "python": {
     "delete_cmd_postfix": "",
     "delete_cmd_prefix": "del ",
     "library": "var_list.py",
     "varRefreshCmd": "print(var_dic_list())"
    },
    "r": {
     "delete_cmd_postfix": ") ",
     "delete_cmd_prefix": "rm(",
     "library": "var_list.r",
     "varRefreshCmd": "cat(var_dic_list()) "
    }
   },
   "types_to_exclude": [
    "module",
    "function",
    "builtin_function_or_method",
    "instance",
    "_Feature"
   ],
   "window_display": false
  }
 },
 "nbformat": 4,
 "nbformat_minor": 5
}
